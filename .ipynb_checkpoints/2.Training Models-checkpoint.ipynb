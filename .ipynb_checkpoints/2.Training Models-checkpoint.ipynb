{
 "cells": [
  {
   "cell_type": "markdown",
   "id": "7a12b0f0",
   "metadata": {},
   "source": [
    "# Training Models in Low Carbon Regions"
   ]
  },
  {
   "cell_type": "markdown",
   "id": "1de50c3f",
   "metadata": {},
   "source": [
    "* Import libraries to train a model locally."
   ]
  },
  {
   "cell_type": "code",
   "execution_count": 1,
   "id": "8b567f06-6dc3-429c-823a-c68f14a1171c",
   "metadata": {
    "height": 98
   },
   "outputs": [
    {
     "name": "stderr",
     "output_type": "stream",
     "text": [
      "2024-07-04 05:49:39.848447: I tensorflow/core/platform/cpu_feature_guard.cc:193] This TensorFlow binary is optimized with oneAPI Deep Neural Network Library (oneDNN) to use the following CPU instructions in performance-critical operations:  AVX2 AVX512F FMA\n",
      "To enable them in other operations, rebuild TensorFlow with the appropriate compiler flags.\n",
      "2024-07-04 05:49:39.961995: W tensorflow/compiler/xla/stream_executor/platform/default/dso_loader.cc:64] Could not load dynamic library 'libcudart.so.11.0'; dlerror: libcudart.so.11.0: cannot open shared object file: No such file or directory\n",
      "2024-07-04 05:49:39.962023: I tensorflow/compiler/xla/stream_executor/cuda/cudart_stub.cc:29] Ignore above cudart dlerror if you do not have a GPU set up on your machine.\n",
      "2024-07-04 05:49:40.789488: W tensorflow/compiler/xla/stream_executor/platform/default/dso_loader.cc:64] Could not load dynamic library 'libnvinfer.so.7'; dlerror: libnvinfer.so.7: cannot open shared object file: No such file or directory\n",
      "2024-07-04 05:49:40.789574: W tensorflow/compiler/xla/stream_executor/platform/default/dso_loader.cc:64] Could not load dynamic library 'libnvinfer_plugin.so.7'; dlerror: libnvinfer_plugin.so.7: cannot open shared object file: No such file or directory\n",
      "2024-07-04 05:49:40.789584: W tensorflow/compiler/tf2tensorrt/utils/py_utils.cc:38] TF-TRT Warning: Cannot dlopen some TensorRT libraries. If you would like to use Nvidia GPU with TensorRT, please make sure the missing libraries mentioned above are installed properly.\n"
     ]
    }
   ],
   "source": [
    "import numpy as np\n",
    "from sklearn.datasets import make_blobs\n",
    "import tensorflow as tf\n",
    "from tensorflow.keras.models import Sequential\n",
    "from tensorflow.keras.layers import Dense"
   ]
  },
  {
   "cell_type": "markdown",
   "id": "4a3fce95",
   "metadata": {},
   "source": [
    "* Create a dataset.\n",
    "\n",
    "This is an example from the [Advanced Learning Algorithms](https://www.coursera.org/learn/advanced-learning-algorithms) course."
   ]
  },
  {
   "cell_type": "code",
   "execution_count": 2,
   "id": "47b67bc4-f6fb-410c-a9da-735c37685ee1",
   "metadata": {
    "height": 166
   },
   "outputs": [],
   "source": [
    "classes = 4\n",
    "m = 100\n",
    "centers = [[-5, 2], [-2, -2], [1, 2], [5, -2]]\n",
    "std = 1.0\n",
    "X_train, y_train = make_blobs(\n",
    "    n_samples=m, \n",
    "    centers=centers, \n",
    "    cluster_std=std,\n",
    "    random_state=30)"
   ]
  },
  {
   "cell_type": "markdown",
   "id": "4fcb41a9",
   "metadata": {},
   "source": [
    "* Create the model."
   ]
  },
  {
   "cell_type": "code",
   "execution_count": 3,
   "id": "43a4297a-cc98-47b7-95d4-703caecdccb7",
   "metadata": {
    "height": 132
   },
   "outputs": [
    {
     "name": "stderr",
     "output_type": "stream",
     "text": [
      "2024-07-04 05:49:41.934309: W tensorflow/compiler/xla/stream_executor/platform/default/dso_loader.cc:64] Could not load dynamic library 'libcuda.so.1'; dlerror: libcuda.so.1: cannot open shared object file: No such file or directory\n",
      "2024-07-04 05:49:41.934336: W tensorflow/compiler/xla/stream_executor/cuda/cuda_driver.cc:265] failed call to cuInit: UNKNOWN ERROR (303)\n",
      "2024-07-04 05:49:41.934368: I tensorflow/compiler/xla/stream_executor/cuda/cuda_diagnostics.cc:156] kernel driver does not appear to be running on this host (5ba1145767c1): /proc/driver/nvidia/version does not exist\n",
      "2024-07-04 05:49:41.934596: I tensorflow/core/platform/cpu_feature_guard.cc:193] This TensorFlow binary is optimized with oneAPI Deep Neural Network Library (oneDNN) to use the following CPU instructions in performance-critical operations:  AVX2 AVX512F FMA\n",
      "To enable them in other operations, rebuild TensorFlow with the appropriate compiler flags.\n"
     ]
    }
   ],
   "source": [
    "# Create the model\n",
    "model = Sequential(\n",
    "    [\n",
    "        Dense(2, activation = 'relu',   name = \"L1\"),\n",
    "        Dense(4, activation = 'linear', name = \"L2\")\n",
    "    ]\n",
    ")"
   ]
  },
  {
   "cell_type": "code",
   "execution_count": 4,
   "id": "bdcb0dae-f2a5-440e-9699-64ed4e80e055",
   "metadata": {
    "height": 98
   },
   "outputs": [],
   "source": [
    "model.compile(\n",
    "    loss=tf.keras.losses.SparseCategoricalCrossentropy(\n",
    "        from_logits=True),\n",
    "    optimizer=tf.keras.optimizers.Adam(0.01),\n",
    ")"
   ]
  },
  {
   "cell_type": "markdown",
   "id": "065a4823",
   "metadata": {},
   "source": [
    "* Train the model."
   ]
  },
  {
   "cell_type": "code",
   "execution_count": 5,
   "id": "7ef0d574-3899-4808-88c1-de3e551528c8",
   "metadata": {
    "height": 81
   },
   "outputs": [
    {
     "name": "stdout",
     "output_type": "stream",
     "text": [
      "Epoch 1/200\n",
      "4/4 [==============================] - 0s 3ms/step - loss: 2.7783\n",
      "Epoch 2/200\n",
      "4/4 [==============================] - 0s 1ms/step - loss: 2.4464\n",
      "Epoch 3/200\n",
      "4/4 [==============================] - 0s 1ms/step - loss: 2.1609\n",
      "Epoch 4/200\n",
      "4/4 [==============================] - 0s 1ms/step - loss: 1.9208\n",
      "Epoch 5/200\n",
      "4/4 [==============================] - 0s 1ms/step - loss: 1.7187\n",
      "Epoch 6/200\n",
      "4/4 [==============================] - 0s 1ms/step - loss: 1.5605\n",
      "Epoch 7/200\n",
      "4/4 [==============================] - 0s 1ms/step - loss: 1.4380\n",
      "Epoch 8/200\n",
      "4/4 [==============================] - 0s 1ms/step - loss: 1.3361\n",
      "Epoch 9/200\n",
      "4/4 [==============================] - 0s 1ms/step - loss: 1.2605\n",
      "Epoch 10/200\n",
      "4/4 [==============================] - 0s 1ms/step - loss: 1.1996\n",
      "Epoch 11/200\n",
      "4/4 [==============================] - 0s 1ms/step - loss: 1.1511\n",
      "Epoch 12/200\n",
      "4/4 [==============================] - 0s 1ms/step - loss: 1.1084\n",
      "Epoch 13/200\n",
      "4/4 [==============================] - 0s 1ms/step - loss: 1.0695\n",
      "Epoch 14/200\n",
      "4/4 [==============================] - 0s 1ms/step - loss: 1.0348\n",
      "Epoch 15/200\n",
      "4/4 [==============================] - 0s 1ms/step - loss: 0.9999\n",
      "Epoch 16/200\n",
      "4/4 [==============================] - 0s 1ms/step - loss: 0.9676\n",
      "Epoch 17/200\n",
      "4/4 [==============================] - 0s 1ms/step - loss: 0.9317\n",
      "Epoch 18/200\n",
      "4/4 [==============================] - 0s 1ms/step - loss: 0.9021\n",
      "Epoch 19/200\n",
      "4/4 [==============================] - 0s 1ms/step - loss: 0.8687\n",
      "Epoch 20/200\n",
      "4/4 [==============================] - 0s 1ms/step - loss: 0.8401\n",
      "Epoch 21/200\n",
      "4/4 [==============================] - 0s 1ms/step - loss: 0.8142\n",
      "Epoch 22/200\n",
      "4/4 [==============================] - 0s 1ms/step - loss: 0.7908\n",
      "Epoch 23/200\n",
      "4/4 [==============================] - 0s 1ms/step - loss: 0.7692\n",
      "Epoch 24/200\n",
      "4/4 [==============================] - 0s 1ms/step - loss: 0.7490\n",
      "Epoch 25/200\n",
      "4/4 [==============================] - 0s 1ms/step - loss: 0.7297\n",
      "Epoch 26/200\n",
      "4/4 [==============================] - 0s 1ms/step - loss: 0.7119\n",
      "Epoch 27/200\n",
      "4/4 [==============================] - 0s 1ms/step - loss: 0.6956\n",
      "Epoch 28/200\n",
      "4/4 [==============================] - 0s 1ms/step - loss: 0.6801\n",
      "Epoch 29/200\n",
      "4/4 [==============================] - 0s 1ms/step - loss: 0.6660\n",
      "Epoch 30/200\n",
      "4/4 [==============================] - 0s 1ms/step - loss: 0.6517\n",
      "Epoch 31/200\n",
      "4/4 [==============================] - 0s 1ms/step - loss: 0.6402\n",
      "Epoch 32/200\n",
      "4/4 [==============================] - 0s 1ms/step - loss: 0.6273\n",
      "Epoch 33/200\n",
      "4/4 [==============================] - 0s 1ms/step - loss: 0.6170\n",
      "Epoch 34/200\n",
      "4/4 [==============================] - 0s 1ms/step - loss: 0.6069\n",
      "Epoch 35/200\n",
      "4/4 [==============================] - 0s 1ms/step - loss: 0.5977\n",
      "Epoch 36/200\n",
      "4/4 [==============================] - 0s 1ms/step - loss: 0.5890\n",
      "Epoch 37/200\n",
      "4/4 [==============================] - 0s 1ms/step - loss: 0.5803\n",
      "Epoch 38/200\n",
      "4/4 [==============================] - 0s 1ms/step - loss: 0.5725\n",
      "Epoch 39/200\n",
      "4/4 [==============================] - 0s 1ms/step - loss: 0.5649\n",
      "Epoch 40/200\n",
      "4/4 [==============================] - 0s 1ms/step - loss: 0.5572\n",
      "Epoch 41/200\n",
      "4/4 [==============================] - 0s 1ms/step - loss: 0.5505\n",
      "Epoch 42/200\n",
      "4/4 [==============================] - 0s 1ms/step - loss: 0.5444\n",
      "Epoch 43/200\n",
      "4/4 [==============================] - 0s 1ms/step - loss: 0.5387\n",
      "Epoch 44/200\n",
      "4/4 [==============================] - 0s 1ms/step - loss: 0.5333\n",
      "Epoch 45/200\n",
      "4/4 [==============================] - 0s 1ms/step - loss: 0.5279\n",
      "Epoch 46/200\n",
      "4/4 [==============================] - 0s 1ms/step - loss: 0.5226\n",
      "Epoch 47/200\n",
      "4/4 [==============================] - 0s 1ms/step - loss: 0.5177\n",
      "Epoch 48/200\n",
      "4/4 [==============================] - 0s 1ms/step - loss: 0.5126\n",
      "Epoch 49/200\n",
      "4/4 [==============================] - 0s 1ms/step - loss: 0.5077\n",
      "Epoch 50/200\n",
      "4/4 [==============================] - 0s 1ms/step - loss: 0.5030\n",
      "Epoch 51/200\n",
      "4/4 [==============================] - 0s 1ms/step - loss: 0.4982\n",
      "Epoch 52/200\n",
      "4/4 [==============================] - 0s 1ms/step - loss: 0.4940\n",
      "Epoch 53/200\n",
      "4/4 [==============================] - 0s 1ms/step - loss: 0.4898\n",
      "Epoch 54/200\n",
      "4/4 [==============================] - 0s 1ms/step - loss: 0.4861\n",
      "Epoch 55/200\n",
      "4/4 [==============================] - 0s 1ms/step - loss: 0.4823\n",
      "Epoch 56/200\n",
      "4/4 [==============================] - 0s 1ms/step - loss: 0.4788\n",
      "Epoch 57/200\n",
      "4/4 [==============================] - 0s 1ms/step - loss: 0.4751\n",
      "Epoch 58/200\n",
      "4/4 [==============================] - 0s 1ms/step - loss: 0.4716\n",
      "Epoch 59/200\n",
      "4/4 [==============================] - 0s 1ms/step - loss: 0.4683\n",
      "Epoch 60/200\n",
      "4/4 [==============================] - 0s 1ms/step - loss: 0.4646\n",
      "Epoch 61/200\n",
      "4/4 [==============================] - 0s 1ms/step - loss: 0.4608\n",
      "Epoch 62/200\n",
      "4/4 [==============================] - 0s 1ms/step - loss: 0.4569\n",
      "Epoch 63/200\n",
      "4/4 [==============================] - 0s 1ms/step - loss: 0.4530\n",
      "Epoch 64/200\n",
      "4/4 [==============================] - 0s 1ms/step - loss: 0.4498\n",
      "Epoch 65/200\n",
      "4/4 [==============================] - 0s 1ms/step - loss: 0.4463\n",
      "Epoch 66/200\n",
      "4/4 [==============================] - 0s 1ms/step - loss: 0.4430\n",
      "Epoch 67/200\n",
      "4/4 [==============================] - 0s 1ms/step - loss: 0.4394\n",
      "Epoch 68/200\n",
      "4/4 [==============================] - 0s 1ms/step - loss: 0.4356\n",
      "Epoch 69/200\n",
      "4/4 [==============================] - 0s 1ms/step - loss: 0.4322\n",
      "Epoch 70/200\n",
      "4/4 [==============================] - 0s 1ms/step - loss: 0.4288\n",
      "Epoch 71/200\n",
      "4/4 [==============================] - 0s 1ms/step - loss: 0.4256\n",
      "Epoch 72/200\n",
      "4/4 [==============================] - 0s 1ms/step - loss: 0.4224\n",
      "Epoch 73/200\n",
      "4/4 [==============================] - 0s 1ms/step - loss: 0.4192\n",
      "Epoch 74/200\n",
      "4/4 [==============================] - 0s 1ms/step - loss: 0.4155\n",
      "Epoch 75/200\n",
      "4/4 [==============================] - 0s 1ms/step - loss: 0.4116\n",
      "Epoch 76/200\n",
      "4/4 [==============================] - 0s 1ms/step - loss: 0.4072\n",
      "Epoch 77/200\n",
      "4/4 [==============================] - 0s 1ms/step - loss: 0.4023\n",
      "Epoch 78/200\n",
      "4/4 [==============================] - 0s 1ms/step - loss: 0.3970\n",
      "Epoch 79/200\n",
      "4/4 [==============================] - 0s 1ms/step - loss: 0.3915\n",
      "Epoch 80/200\n",
      "4/4 [==============================] - 0s 1ms/step - loss: 0.3863\n",
      "Epoch 81/200\n",
      "4/4 [==============================] - 0s 1ms/step - loss: 0.3811\n",
      "Epoch 82/200\n",
      "4/4 [==============================] - 0s 1ms/step - loss: 0.3773\n",
      "Epoch 83/200\n",
      "4/4 [==============================] - 0s 1ms/step - loss: 0.3732\n",
      "Epoch 84/200\n",
      "4/4 [==============================] - 0s 1ms/step - loss: 0.3690\n",
      "Epoch 85/200\n",
      "4/4 [==============================] - 0s 1ms/step - loss: 0.3655\n",
      "Epoch 86/200\n",
      "4/4 [==============================] - 0s 1ms/step - loss: 0.3615\n",
      "Epoch 87/200\n",
      "4/4 [==============================] - 0s 1ms/step - loss: 0.3587\n",
      "Epoch 88/200\n",
      "4/4 [==============================] - 0s 1ms/step - loss: 0.3559\n",
      "Epoch 89/200\n",
      "4/4 [==============================] - 0s 1ms/step - loss: 0.3530\n",
      "Epoch 90/200\n",
      "4/4 [==============================] - 0s 1ms/step - loss: 0.3495\n",
      "Epoch 91/200\n",
      "4/4 [==============================] - 0s 1ms/step - loss: 0.3464\n",
      "Epoch 92/200\n",
      "4/4 [==============================] - 0s 1ms/step - loss: 0.3436\n",
      "Epoch 93/200\n",
      "4/4 [==============================] - 0s 1ms/step - loss: 0.3405\n",
      "Epoch 94/200\n",
      "4/4 [==============================] - 0s 1ms/step - loss: 0.3382\n",
      "Epoch 95/200\n",
      "4/4 [==============================] - 0s 1ms/step - loss: 0.3359\n",
      "Epoch 96/200\n",
      "4/4 [==============================] - 0s 1ms/step - loss: 0.3337\n",
      "Epoch 97/200\n",
      "4/4 [==============================] - 0s 1ms/step - loss: 0.3308\n",
      "Epoch 98/200\n",
      "4/4 [==============================] - 0s 1ms/step - loss: 0.3280\n",
      "Epoch 99/200\n",
      "4/4 [==============================] - 0s 1ms/step - loss: 0.3253\n",
      "Epoch 100/200\n",
      "4/4 [==============================] - 0s 1ms/step - loss: 0.3231\n",
      "Epoch 101/200\n",
      "4/4 [==============================] - 0s 1ms/step - loss: 0.3205\n",
      "Epoch 102/200\n",
      "4/4 [==============================] - 0s 1ms/step - loss: 0.3181\n",
      "Epoch 103/200\n",
      "4/4 [==============================] - 0s 1ms/step - loss: 0.3162\n",
      "Epoch 104/200\n",
      "4/4 [==============================] - 0s 1ms/step - loss: 0.3143\n",
      "Epoch 105/200\n",
      "4/4 [==============================] - 0s 1ms/step - loss: 0.3126\n",
      "Epoch 106/200\n",
      "4/4 [==============================] - 0s 1ms/step - loss: 0.3110\n",
      "Epoch 107/200\n",
      "4/4 [==============================] - 0s 1ms/step - loss: 0.3089\n",
      "Epoch 108/200\n",
      "4/4 [==============================] - 0s 1ms/step - loss: 0.3064\n",
      "Epoch 109/200\n",
      "4/4 [==============================] - 0s 1ms/step - loss: 0.3029\n",
      "Epoch 110/200\n",
      "4/4 [==============================] - 0s 1ms/step - loss: 0.2981\n",
      "Epoch 111/200\n",
      "4/4 [==============================] - 0s 1ms/step - loss: 0.2943\n",
      "Epoch 112/200\n",
      "4/4 [==============================] - 0s 1ms/step - loss: 0.2915\n",
      "Epoch 113/200\n",
      "4/4 [==============================] - 0s 1ms/step - loss: 0.2877\n",
      "Epoch 114/200\n",
      "4/4 [==============================] - 0s 1ms/step - loss: 0.2866\n",
      "Epoch 115/200\n",
      "4/4 [==============================] - 0s 1ms/step - loss: 0.2834\n",
      "Epoch 116/200\n",
      "4/4 [==============================] - 0s 1ms/step - loss: 0.2805\n",
      "Epoch 117/200\n",
      "4/4 [==============================] - 0s 1ms/step - loss: 0.2779\n",
      "Epoch 118/200\n",
      "4/4 [==============================] - 0s 1ms/step - loss: 0.2762\n",
      "Epoch 119/200\n",
      "4/4 [==============================] - 0s 1ms/step - loss: 0.2741\n",
      "Epoch 120/200\n",
      "4/4 [==============================] - 0s 1ms/step - loss: 0.2712\n",
      "Epoch 121/200\n",
      "4/4 [==============================] - 0s 1ms/step - loss: 0.2691\n",
      "Epoch 122/200\n",
      "4/4 [==============================] - 0s 1ms/step - loss: 0.2671\n",
      "Epoch 123/200\n",
      "4/4 [==============================] - 0s 1ms/step - loss: 0.2652\n",
      "Epoch 124/200\n",
      "4/4 [==============================] - 0s 1ms/step - loss: 0.2635\n",
      "Epoch 125/200\n",
      "4/4 [==============================] - 0s 1ms/step - loss: 0.2595\n",
      "Epoch 126/200\n",
      "4/4 [==============================] - 0s 1ms/step - loss: 0.2590\n",
      "Epoch 127/200\n",
      "4/4 [==============================] - 0s 1ms/step - loss: 0.2587\n",
      "Epoch 128/200\n",
      "4/4 [==============================] - 0s 1ms/step - loss: 0.2580\n",
      "Epoch 129/200\n",
      "4/4 [==============================] - 0s 1ms/step - loss: 0.2555\n",
      "Epoch 130/200\n",
      "4/4 [==============================] - 0s 1ms/step - loss: 0.2529\n",
      "Epoch 131/200\n",
      "4/4 [==============================] - 0s 1ms/step - loss: 0.2509\n",
      "Epoch 132/200\n",
      "4/4 [==============================] - 0s 1ms/step - loss: 0.2494\n",
      "Epoch 133/200\n",
      "4/4 [==============================] - 0s 1ms/step - loss: 0.2476\n",
      "Epoch 134/200\n",
      "4/4 [==============================] - 0s 1ms/step - loss: 0.2464\n",
      "Epoch 135/200\n",
      "4/4 [==============================] - 0s 1ms/step - loss: 0.2455\n",
      "Epoch 136/200\n",
      "4/4 [==============================] - 0s 1ms/step - loss: 0.2438\n",
      "Epoch 137/200\n",
      "4/4 [==============================] - 0s 1ms/step - loss: 0.2431\n",
      "Epoch 138/200\n",
      "4/4 [==============================] - 0s 1ms/step - loss: 0.2417\n",
      "Epoch 139/200\n",
      "4/4 [==============================] - 0s 1ms/step - loss: 0.2413\n",
      "Epoch 140/200\n",
      "4/4 [==============================] - 0s 1ms/step - loss: 0.2408\n",
      "Epoch 141/200\n",
      "4/4 [==============================] - 0s 1ms/step - loss: 0.2395\n",
      "Epoch 142/200\n",
      "4/4 [==============================] - 0s 1ms/step - loss: 0.2377\n",
      "Epoch 143/200\n",
      "4/4 [==============================] - 0s 1ms/step - loss: 0.2361\n",
      "Epoch 144/200\n",
      "4/4 [==============================] - 0s 1ms/step - loss: 0.2360\n",
      "Epoch 145/200\n",
      "4/4 [==============================] - 0s 1ms/step - loss: 0.2346\n",
      "Epoch 146/200\n",
      "4/4 [==============================] - 0s 1ms/step - loss: 0.2345\n",
      "Epoch 147/200\n",
      "4/4 [==============================] - 0s 1ms/step - loss: 0.2353\n",
      "Epoch 148/200\n",
      "4/4 [==============================] - 0s 1ms/step - loss: 0.2333\n",
      "Epoch 149/200\n",
      "4/4 [==============================] - 0s 1ms/step - loss: 0.2318\n",
      "Epoch 150/200\n",
      "4/4 [==============================] - 0s 1ms/step - loss: 0.2301\n",
      "Epoch 151/200\n",
      "4/4 [==============================] - 0s 1ms/step - loss: 0.2282\n",
      "Epoch 152/200\n",
      "4/4 [==============================] - 0s 1ms/step - loss: 0.2272\n",
      "Epoch 153/200\n",
      "4/4 [==============================] - 0s 1ms/step - loss: 0.2294\n",
      "Epoch 154/200\n",
      "4/4 [==============================] - 0s 1ms/step - loss: 0.2279\n",
      "Epoch 155/200\n",
      "4/4 [==============================] - 0s 1ms/step - loss: 0.2263\n",
      "Epoch 156/200\n",
      "4/4 [==============================] - 0s 1ms/step - loss: 0.2245\n",
      "Epoch 157/200\n",
      "4/4 [==============================] - 0s 1ms/step - loss: 0.2227\n",
      "Epoch 158/200\n",
      "4/4 [==============================] - 0s 1ms/step - loss: 0.2224\n",
      "Epoch 159/200\n",
      "4/4 [==============================] - 0s 1ms/step - loss: 0.2206\n",
      "Epoch 160/200\n",
      "4/4 [==============================] - 0s 1ms/step - loss: 0.2239\n",
      "Epoch 161/200\n",
      "4/4 [==============================] - 0s 1ms/step - loss: 0.2234\n",
      "Epoch 162/200\n",
      "4/4 [==============================] - 0s 1ms/step - loss: 0.2247\n",
      "Epoch 163/200\n",
      "4/4 [==============================] - 0s 1ms/step - loss: 0.2266\n",
      "Epoch 164/200\n",
      "4/4 [==============================] - 0s 1ms/step - loss: 0.2344\n",
      "Epoch 165/200\n",
      "4/4 [==============================] - 0s 1ms/step - loss: 0.2345\n",
      "Epoch 166/200\n",
      "4/4 [==============================] - 0s 1ms/step - loss: 0.2259\n",
      "Epoch 167/200\n",
      "4/4 [==============================] - 0s 1ms/step - loss: 0.2176\n",
      "Epoch 168/200\n",
      "4/4 [==============================] - 0s 1ms/step - loss: 0.2145\n",
      "Epoch 169/200\n",
      "4/4 [==============================] - 0s 1ms/step - loss: 0.2152\n",
      "Epoch 170/200\n",
      "4/4 [==============================] - 0s 1ms/step - loss: 0.2169\n",
      "Epoch 171/200\n",
      "4/4 [==============================] - 0s 1ms/step - loss: 0.2169\n",
      "Epoch 172/200\n",
      "4/4 [==============================] - 0s 1ms/step - loss: 0.2161\n",
      "Epoch 173/200\n",
      "4/4 [==============================] - 0s 1ms/step - loss: 0.2143\n",
      "Epoch 174/200\n",
      "4/4 [==============================] - 0s 1ms/step - loss: 0.2133\n",
      "Epoch 175/200\n",
      "4/4 [==============================] - 0s 1ms/step - loss: 0.2115\n",
      "Epoch 176/200\n",
      "4/4 [==============================] - 0s 1ms/step - loss: 0.2136\n",
      "Epoch 177/200\n",
      "4/4 [==============================] - 0s 1ms/step - loss: 0.2126\n",
      "Epoch 178/200\n",
      "4/4 [==============================] - 0s 1ms/step - loss: 0.2110\n",
      "Epoch 179/200\n",
      "4/4 [==============================] - 0s 1ms/step - loss: 0.2088\n",
      "Epoch 180/200\n",
      "4/4 [==============================] - 0s 1ms/step - loss: 0.2101\n",
      "Epoch 181/200\n",
      "4/4 [==============================] - 0s 1ms/step - loss: 0.2089\n",
      "Epoch 182/200\n",
      "4/4 [==============================] - 0s 1ms/step - loss: 0.2085\n",
      "Epoch 183/200\n",
      "4/4 [==============================] - 0s 1ms/step - loss: 0.2073\n",
      "Epoch 184/200\n",
      "4/4 [==============================] - 0s 1ms/step - loss: 0.2063\n",
      "Epoch 185/200\n",
      "4/4 [==============================] - 0s 1ms/step - loss: 0.2051\n",
      "Epoch 186/200\n",
      "4/4 [==============================] - 0s 1ms/step - loss: 0.2048\n",
      "Epoch 187/200\n",
      "4/4 [==============================] - 0s 1ms/step - loss: 0.2052\n",
      "Epoch 188/200\n",
      "4/4 [==============================] - 0s 1ms/step - loss: 0.2044\n",
      "Epoch 189/200\n",
      "4/4 [==============================] - 0s 1ms/step - loss: 0.2033\n",
      "Epoch 190/200\n",
      "4/4 [==============================] - 0s 1ms/step - loss: 0.2021\n",
      "Epoch 191/200\n",
      "4/4 [==============================] - 0s 1ms/step - loss: 0.2019\n",
      "Epoch 192/200\n",
      "4/4 [==============================] - 0s 1ms/step - loss: 0.2025\n",
      "Epoch 193/200\n",
      "4/4 [==============================] - 0s 1ms/step - loss: 0.2025\n",
      "Epoch 194/200\n",
      "4/4 [==============================] - 0s 1ms/step - loss: 0.2022\n",
      "Epoch 195/200\n",
      "4/4 [==============================] - 0s 1ms/step - loss: 0.2008\n",
      "Epoch 196/200\n",
      "4/4 [==============================] - 0s 1ms/step - loss: 0.2002\n",
      "Epoch 197/200\n",
      "4/4 [==============================] - 0s 1ms/step - loss: 0.1992\n",
      "Epoch 198/200\n",
      "4/4 [==============================] - 0s 1ms/step - loss: 0.1986\n",
      "Epoch 199/200\n",
      "4/4 [==============================] - 0s 1ms/step - loss: 0.1982\n",
      "Epoch 200/200\n",
      "4/4 [==============================] - 0s 1ms/step - loss: 0.1988\n"
     ]
    },
    {
     "data": {
      "text/plain": [
       "<keras.callbacks.History at 0x7fd83c0b2b90>"
      ]
     },
     "execution_count": 5,
     "metadata": {},
     "output_type": "execute_result"
    }
   ],
   "source": [
    "model.fit(\n",
    "    X_train,y_train,\n",
    "    epochs=200\n",
    ")"
   ]
  },
  {
   "cell_type": "markdown",
   "id": "7916c263",
   "metadata": {},
   "source": [
    "### Running on Google Cloud\n",
    "\n",
    "We will use Google Cloud's ML platform, Vertex AI. To run this code on Vertex AI, we first need to:\n",
    "1. Import and initialize the Vertex AI Python SDK\n",
    "2. Write the ML training code to a file\n",
    "3. Configure and submit a training job that runs our training code."
   ]
  },
  {
   "cell_type": "markdown",
   "id": "ff5628f8",
   "metadata": {},
   "source": [
    "* Step 1. Initialize Vertex AI."
   ]
  },
  {
   "cell_type": "code",
   "execution_count": 6,
   "id": "6aa103e6-91f0-4506-b444-7af210ae0b05",
   "metadata": {
    "height": 47
   },
   "outputs": [],
   "source": [
    "from helper import authenticate\n",
    "CREDENTIALS, PROJECT_ID = authenticate()"
   ]
  },
  {
   "cell_type": "code",
   "execution_count": 7,
   "id": "165068fa-747a-4a43-aaae-24599ec361c3",
   "metadata": {
    "height": 30
   },
   "outputs": [],
   "source": [
    "from google.cloud import aiplatform"
   ]
  },
  {
   "cell_type": "code",
   "execution_count": 8,
   "id": "95d98265-e5e2-4adf-9ef3-b7ab5e4dd7f7",
   "metadata": {
    "height": 64
   },
   "outputs": [],
   "source": [
    "aiplatform.init(project=PROJECT_ID,\n",
    "                credentials=CREDENTIALS,\n",
    "                )"
   ]
  },
  {
   "cell_type": "markdown",
   "id": "2205640c",
   "metadata": {},
   "source": [
    "* Step 2. Write the ML training code to a file."
   ]
  },
  {
   "cell_type": "code",
   "execution_count": 9,
   "id": "e6c4ad22-f843-497a-8efe-03780857be08",
   "metadata": {
    "height": 676
   },
   "outputs": [
    {
     "name": "stdout",
     "output_type": "stream",
     "text": [
      "Overwriting task.py\n"
     ]
    }
   ],
   "source": [
    "%%writefile task.py\n",
    "\n",
    "# import libraries\n",
    "import numpy as np\n",
    "from sklearn.datasets import make_blobs\n",
    "import tensorflow as tf\n",
    "from tensorflow.keras.models import Sequential\n",
    "from tensorflow.keras.layers import Dense\n",
    "\n",
    "# Create dataset\n",
    "classes = 4\n",
    "m = 100\n",
    "centers = [[-5, 2], [-2, -2], [1, 2], [5, -2]]\n",
    "std = 1.0\n",
    "X_train, y_train = make_blobs(\n",
    "    n_samples=m, \n",
    "    centers=centers, \n",
    "    cluster_std=std,\n",
    "    random_state=30)\n",
    "\n",
    "# Create the model\n",
    "model = Sequential(\n",
    "    [\n",
    "        Dense(2, activation = 'relu',   name = \"L1\"),\n",
    "        Dense(4, activation = 'linear', name = \"L2\")\n",
    "    ]\n",
    ")\n",
    "\n",
    "model.compile(\n",
    "    loss=tf.keras.losses.SparseCategoricalCrossentropy(\n",
    "        from_logits=True),\n",
    "    optimizer=tf.keras.optimizers.Adam(0.01),\n",
    ")\n",
    "\n",
    "# Train\n",
    "model.fit(\n",
    "    X_train,y_train,\n",
    "    epochs=200\n",
    ")"
   ]
  },
  {
   "cell_type": "code",
   "execution_count": 10,
   "id": "616ceab3-02f3-49f5-88bd-b560a4a3908d",
   "metadata": {
    "height": 30
   },
   "outputs": [
    {
     "name": "stdout",
     "output_type": "stream",
     "text": [
      "\u001b[0m\u001b[01;32mL3_Training_Models.ipynb\u001b[0m*  \u001b[34;42m__pycache__\u001b[0m/  \u001b[01;32mhelper.py\u001b[0m*  \u001b[01;32mtask.py\u001b[0m*\r\n"
     ]
    }
   ],
   "source": [
    "ls"
   ]
  },
  {
   "cell_type": "code",
   "execution_count": 11,
   "id": "ff21b5e4-5439-4721-a28b-109fc7230cf7",
   "metadata": {
    "height": 30
   },
   "outputs": [
    {
     "name": "stdout",
     "output_type": "stream",
     "text": [
      "\r\n",
      "# import libraries\r\n",
      "import numpy as np\r\n",
      "from sklearn.datasets import make_blobs\r\n",
      "import tensorflow as tf\r\n",
      "from tensorflow.keras.models import Sequential\r\n",
      "from tensorflow.keras.layers import Dense\r\n",
      "\r\n",
      "# Create dataset\r\n",
      "classes = 4\r\n",
      "m = 100\r\n",
      "centers = [[-5, 2], [-2, -2], [1, 2], [5, -2]]\r\n",
      "std = 1.0\r\n",
      "X_train, y_train = make_blobs(\r\n",
      "    n_samples=m, \r\n",
      "    centers=centers, \r\n",
      "    cluster_std=std,\r\n",
      "    random_state=30)\r\n",
      "\r\n",
      "# Create the model\r\n",
      "model = Sequential(\r\n",
      "    [\r\n",
      "        Dense(2, activation = 'relu',   name = \"L1\"),\r\n",
      "        Dense(4, activation = 'linear', name = \"L2\")\r\n",
      "    ]\r\n",
      ")\r\n",
      "\r\n",
      "model.compile(\r\n",
      "    loss=tf.keras.losses.SparseCategoricalCrossentropy(\r\n",
      "        from_logits=True),\r\n",
      "    optimizer=tf.keras.optimizers.Adam(0.01),\r\n",
      ")\r\n",
      "\r\n",
      "# Train\r\n",
      "model.fit(\r\n",
      "    X_train,y_train,\r\n",
      "    epochs=200\r\n",
      ")\r\n"
     ]
    }
   ],
   "source": [
    "cat task.py"
   ]
  },
  {
   "cell_type": "markdown",
   "id": "b2bfa47c",
   "metadata": {},
   "source": [
    "* Define the Custom Trainin Job."
   ]
  },
  {
   "cell_type": "markdown",
   "id": "0fbb742d",
   "metadata": {},
   "source": [
    "> Note: Check here to find more information about [Prebuilt containers for custom training](https://cloud.google.com/vertex-ai/docs/training/pre-built-containers)\n",
    "\n",
    "> Note: Check here to find more information about [Carbon free energy for Google Cloud regions](https://cloud.google.com/sustainability/region-carbon)"
   ]
  },
  {
   "cell_type": "code",
   "execution_count": 12,
   "id": "06e502c7-eda6-4c10-978d-aa730731dbb7",
   "metadata": {
    "height": 47
   },
   "outputs": [],
   "source": [
    "# Choose a location (with carbon free energy available for this example)\n",
    "REGION = 'us-central1'"
   ]
  },
  {
   "cell_type": "markdown",
   "id": "86977ad6",
   "metadata": {},
   "source": [
    "* Create a store bucket."
   ]
  },
  {
   "cell_type": "code",
   "execution_count": 13,
   "id": "fa25f631-175d-4700-bc30-70db90cb6bcb",
   "metadata": {
    "height": 47
   },
   "outputs": [],
   "source": [
    "import random\n",
    "import string"
   ]
  },
  {
   "cell_type": "code",
   "execution_count": 14,
   "id": "58367b95-19e4-4e8b-a2c3-a1b0a256643e",
   "metadata": {
    "height": 132
   },
   "outputs": [],
   "source": [
    "def generate_uuid(length: int = 8) -> str:\n",
    "    return \"\".join(\n",
    "        random.choices(\n",
    "            string.ascii_lowercase + string.digits, \n",
    "            k=length))\n",
    "\n",
    "UUID = generate_uuid()"
   ]
  },
  {
   "cell_type": "code",
   "execution_count": 15,
   "id": "2380693a-7167-4855-b516-e2837b4b9a97",
   "metadata": {
    "height": 47
   },
   "outputs": [
    {
     "data": {
      "text/plain": [
       "'1hwrey5w'"
      ]
     },
     "execution_count": 15,
     "metadata": {},
     "output_type": "execute_result"
    }
   ],
   "source": [
    "# The unique identifier\n",
    "UUID"
   ]
  },
  {
   "cell_type": "code",
   "execution_count": 16,
   "id": "489859f0-5299-43a2-a718-6637dc37b41a",
   "metadata": {
    "height": 30
   },
   "outputs": [],
   "source": [
    "from google.cloud import storage"
   ]
  },
  {
   "cell_type": "code",
   "execution_count": 17,
   "id": "986c8fd6-6558-408e-bd04-74b301842acb",
   "metadata": {
    "height": 47
   },
   "outputs": [],
   "source": [
    "storage_client = storage.Client(project = PROJECT_ID,\n",
    "                                credentials = CREDENTIALS)"
   ]
  },
  {
   "cell_type": "code",
   "execution_count": 18,
   "id": "cd33c614-ff8a-4acc-b8e1-5f7a530ab565",
   "metadata": {
    "height": 30
   },
   "outputs": [],
   "source": [
    "bucket_name = f'carbon-course-bucket-{UUID}'"
   ]
  },
  {
   "cell_type": "code",
   "execution_count": 19,
   "id": "aa46eac4-6009-4489-bc6e-ed18b2db7dff",
   "metadata": {
    "height": 30
   },
   "outputs": [
    {
     "data": {
      "text/plain": [
       "'carbon-course-bucket-1hwrey5w'"
      ]
     },
     "execution_count": 19,
     "metadata": {},
     "output_type": "execute_result"
    }
   ],
   "source": [
    "bucket_name"
   ]
  },
  {
   "cell_type": "code",
   "execution_count": 20,
   "id": "b9377f73-662c-45fb-ada9-0b6152b7fb40",
   "metadata": {
    "height": 30
   },
   "outputs": [],
   "source": [
    "bucket = storage_client.bucket(bucket_name)"
   ]
  },
  {
   "cell_type": "code",
   "execution_count": 21,
   "id": "424eb498-ecc1-43d7-8e2d-812bf272ac73",
   "metadata": {
    "height": 30
   },
   "outputs": [],
   "source": [
    "bucket.create(location=REGION)"
   ]
  },
  {
   "cell_type": "code",
   "execution_count": 22,
   "id": "67cc2bb0-f678-4c5d-bf75-1b57911397cd",
   "metadata": {
    "height": 149
   },
   "outputs": [],
   "source": [
    "# Create the CustomTrainingJob\n",
    "job = aiplatform.CustomTrainingJob(\n",
    "    display_name='dlai-course-example',\n",
    "    script_path='task.py',\n",
    "    container_uri='us-docker.pkg.dev/vertex-ai/training/tf-cpu.2-14.py310:latest',\n",
    "    staging_bucket=f'gs://{bucket_name}',\n",
    "    location=REGION,\n",
    ")"
   ]
  },
  {
   "cell_type": "code",
   "execution_count": 23,
   "id": "1cc56b5d-4108-4592-a580-bc0e587f0ce7",
   "metadata": {
    "height": 30
   },
   "outputs": [
    {
     "name": "stdout",
     "output_type": "stream",
     "text": [
      "Training script copied to:\n",
      "gs://carbon-course-bucket-1hwrey5w/aiplatform-2024-07-04-05-49-45.045-aiplatform_custom_trainer_script-0.1.tar.gz.\n",
      "Training Output directory:\n",
      "gs://carbon-course-bucket-1hwrey5w/aiplatform-custom-training-2024-07-04-05-49-45.045\n",
      "View Training:\n",
      "https://console.cloud.google.com/ai/platform/locations/us-central1/training/3727316689851777024?project=362161713137\n",
      "View backing custom job:\n",
      "https://console.cloud.google.com/ai/platform/locations/us-central1/training/1619438550195896320?project=362161713137\n",
      "CustomTrainingJob projects/362161713137/locations/us-central1/trainingPipelines/3727316689851777024 current state:\n",
      "PipelineState.PIPELINE_STATE_RUNNING\n",
      "CustomTrainingJob projects/362161713137/locations/us-central1/trainingPipelines/3727316689851777024 current state:\n",
      "PipelineState.PIPELINE_STATE_RUNNING\n",
      "CustomTrainingJob projects/362161713137/locations/us-central1/trainingPipelines/3727316689851777024 current state:\n",
      "PipelineState.PIPELINE_STATE_RUNNING\n",
      "CustomTrainingJob projects/362161713137/locations/us-central1/trainingPipelines/3727316689851777024 current state:\n",
      "PipelineState.PIPELINE_STATE_RUNNING\n",
      "CustomTrainingJob projects/362161713137/locations/us-central1/trainingPipelines/3727316689851777024 current state:\n",
      "PipelineState.PIPELINE_STATE_RUNNING\n",
      "CustomTrainingJob run completed. Resource name: projects/362161713137/locations/us-central1/trainingPipelines/3727316689851777024 is not configured to upload a Model. Create the Training Pipeline with model_serving_container_image_uri and model_display_name passed in. Ensure that your training script saves to model to os.environ['AIP_MODEL_DIR']\n"
     ]
    }
   ],
   "source": [
    "model = job.run()"
   ]
  },
  {
   "cell_type": "code",
   "execution_count": 27,
   "id": "4d65abae-b35b-4818-853a-4c68a44587f8",
   "metadata": {
    "height": 47
   },
   "outputs": [],
   "source": [
    "# Delete the bucket to clean up resources\n",
    "bucket.delete(force=True)"
   ]
  }
 ],
 "metadata": {
  "kernelspec": {
   "display_name": "Python 3 (ipykernel)",
   "language": "python",
   "name": "python3"
  },
  "language_info": {
   "codemirror_mode": {
    "name": "ipython",
    "version": 3
   },
   "file_extension": ".py",
   "mimetype": "text/x-python",
   "name": "python",
   "nbconvert_exporter": "python",
   "pygments_lexer": "ipython3",
   "version": "3.11.5"
  }
 },
 "nbformat": 4,
 "nbformat_minor": 5
}
